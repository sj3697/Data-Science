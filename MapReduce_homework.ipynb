{
 "cells": [
  {
   "cell_type": "markdown",
   "metadata": {},
   "source": [
    "### Task 1. \n",
    "\n",
    "#### MapReduce\n",
    "\n",
    "Use MapReduce to calculate the average housing price in each zip code and filter out records in which gross sqft is less than 500 and sale price is less than 100000. Round the average housing price to 2 decimals, and sort the output by housing price ascending."
   ]
  },
  {
   "cell_type": "code",
   "execution_count": 36,
   "metadata": {},
   "outputs": [],
   "source": [
    "import pandas as pd\n",
    "import csv\n",
    "from functools import reduce\n",
    "from multiprocessing import Pool"
   ]
  },
  {
   "cell_type": "code",
   "execution_count": 37,
   "metadata": {
    "scrolled": true
   },
   "outputs": [],
   "source": [
    "import wget\n",
    "#url = 'https://github.com/CUSP2022ADS/Data/raw/main/housingSalseSample.csv'\n",
    "#wget.download(url)"
   ]
  },
  {
   "cell_type": "code",
   "execution_count": 38,
   "metadata": {},
   "outputs": [
    {
     "data": {
      "text/html": [
       "<div>\n",
       "<style scoped>\n",
       "    .dataframe tbody tr th:only-of-type {\n",
       "        vertical-align: middle;\n",
       "    }\n",
       "\n",
       "    .dataframe tbody tr th {\n",
       "        vertical-align: top;\n",
       "    }\n",
       "\n",
       "    .dataframe thead th {\n",
       "        text-align: right;\n",
       "    }\n",
       "</style>\n",
       "<table border=\"1\" class=\"dataframe\">\n",
       "  <thead>\n",
       "    <tr style=\"text-align: right;\">\n",
       "      <th></th>\n",
       "      <th>Unnamed: 0</th>\n",
       "      <th>Unnamed: 0.1</th>\n",
       "      <th>Unnamed: 0.1.1</th>\n",
       "      <th>BOROUGH</th>\n",
       "      <th>BLOCK</th>\n",
       "      <th>LOT</th>\n",
       "      <th>BUILDING CLASS CATEGORY</th>\n",
       "      <th>ADDRESS</th>\n",
       "      <th>ZIP CODE</th>\n",
       "      <th>GROSS SQUARE FEET</th>\n",
       "      <th>YEAR BUILT</th>\n",
       "      <th>SALE PRICE</th>\n",
       "      <th>SALE DATE</th>\n",
       "      <th>AVG_Price</th>\n",
       "    </tr>\n",
       "  </thead>\n",
       "  <tbody>\n",
       "    <tr>\n",
       "      <th>0</th>\n",
       "      <td>0</td>\n",
       "      <td>0</td>\n",
       "      <td>0</td>\n",
       "      <td>1</td>\n",
       "      <td>1170</td>\n",
       "      <td>1010</td>\n",
       "      <td>17  CONDOPS</td>\n",
       "      <td>200 WEST 79TH STREET, 7P</td>\n",
       "      <td>10024.0</td>\n",
       "      <td>0.0</td>\n",
       "      <td>1975.0</td>\n",
       "      <td>551000</td>\n",
       "      <td>2011-07-28</td>\n",
       "      <td>0</td>\n",
       "    </tr>\n",
       "    <tr>\n",
       "      <th>1</th>\n",
       "      <td>1</td>\n",
       "      <td>1</td>\n",
       "      <td>1</td>\n",
       "      <td>4</td>\n",
       "      <td>1275</td>\n",
       "      <td>45</td>\n",
       "      <td>10  COOPS - ELEVATOR APARTMENTS</td>\n",
       "      <td>35-35 75TH STREET, 304</td>\n",
       "      <td>11372.0</td>\n",
       "      <td>0.0</td>\n",
       "      <td>1941.0</td>\n",
       "      <td>338000</td>\n",
       "      <td>2011-05-20</td>\n",
       "      <td>0</td>\n",
       "    </tr>\n",
       "    <tr>\n",
       "      <th>2</th>\n",
       "      <td>2</td>\n",
       "      <td>2</td>\n",
       "      <td>2</td>\n",
       "      <td>3</td>\n",
       "      <td>5746</td>\n",
       "      <td>58</td>\n",
       "      <td>03  THREE FAMILY DWELLINGS</td>\n",
       "      <td>1249 65TH   STREET</td>\n",
       "      <td>11219.0</td>\n",
       "      <td>3861.0</td>\n",
       "      <td>1910.0</td>\n",
       "      <td>1250000</td>\n",
       "      <td>2014-12-04</td>\n",
       "      <td>0</td>\n",
       "    </tr>\n",
       "    <tr>\n",
       "      <th>3</th>\n",
       "      <td>3</td>\n",
       "      <td>3</td>\n",
       "      <td>3</td>\n",
       "      <td>4</td>\n",
       "      <td>2086</td>\n",
       "      <td>50</td>\n",
       "      <td>10  COOPS - ELEVATOR APARTMENTS</td>\n",
       "      <td>97-07 63 ROAD, 8F</td>\n",
       "      <td>11374.0</td>\n",
       "      <td>0.0</td>\n",
       "      <td>1955.0</td>\n",
       "      <td>253000</td>\n",
       "      <td>2016-03-09</td>\n",
       "      <td>0</td>\n",
       "    </tr>\n",
       "    <tr>\n",
       "      <th>4</th>\n",
       "      <td>4</td>\n",
       "      <td>4</td>\n",
       "      <td>4</td>\n",
       "      <td>4</td>\n",
       "      <td>5028</td>\n",
       "      <td>7</td>\n",
       "      <td>10  COOPS - ELEVATOR APARTMENTS</td>\n",
       "      <td>38-15 149TH   STREET, 1F</td>\n",
       "      <td>11354.0</td>\n",
       "      <td>0.0</td>\n",
       "      <td>1955.0</td>\n",
       "      <td>0</td>\n",
       "      <td>2016-12-30</td>\n",
       "      <td>0</td>\n",
       "    </tr>\n",
       "  </tbody>\n",
       "</table>\n",
       "</div>"
      ],
      "text/plain": [
       "   Unnamed: 0  Unnamed: 0.1  Unnamed: 0.1.1  BOROUGH  BLOCK   LOT  \\\n",
       "0           0             0               0        1   1170  1010   \n",
       "1           1             1               1        4   1275    45   \n",
       "2           2             2               2        3   5746    58   \n",
       "3           3             3               3        4   2086    50   \n",
       "4           4             4               4        4   5028     7   \n",
       "\n",
       "                        BUILDING CLASS CATEGORY  \\\n",
       "0  17  CONDOPS                                    \n",
       "1  10  COOPS - ELEVATOR APARTMENTS                \n",
       "2  03  THREE FAMILY DWELLINGS                     \n",
       "3  10  COOPS - ELEVATOR APARTMENTS                \n",
       "4  10  COOPS - ELEVATOR APARTMENTS                \n",
       "\n",
       "                                     ADDRESS  ZIP CODE  GROSS SQUARE FEET  \\\n",
       "0  200 WEST 79TH STREET, 7P                    10024.0                0.0   \n",
       "1  35-35 75TH STREET, 304                      11372.0                0.0   \n",
       "2  1249 65TH   STREET                          11219.0             3861.0   \n",
       "3  97-07 63 ROAD, 8F                           11374.0                0.0   \n",
       "4  38-15 149TH   STREET, 1F                    11354.0                0.0   \n",
       "\n",
       "   YEAR BUILT  SALE PRICE   SALE DATE  AVG_Price  \n",
       "0      1975.0      551000  2011-07-28          0  \n",
       "1      1941.0      338000  2011-05-20          0  \n",
       "2      1910.0     1250000  2014-12-04          0  \n",
       "3      1955.0      253000  2016-03-09          0  \n",
       "4      1955.0           0  2016-12-30          0  "
      ]
     },
     "execution_count": 38,
     "metadata": {},
     "output_type": "execute_result"
    }
   ],
   "source": [
    "import pandas as pd\n",
    "housingSalseSample = pd.read_csv('housingSalseSample.csv')\n",
    "housingSalseSample['AVG_Price'] = 0\n",
    "housingSalseSample.to_csv('housingSalseSample.csv')\n",
    "housingSalseSample.head()"
   ]
  },
  {
   "cell_type": "code",
   "execution_count": 60,
   "metadata": {},
   "outputs": [],
   "source": [
    "# code here\n",
    "def returnInfo(record): #extract necessary fields from a data record (raw)\n",
    "    return(record['ZIP CODE'],record['GROSS SQUARE FEET'],record['SALE PRICE'])\n",
    "    \n",
    "def priceList(result,record):\n",
    "    zipcode, price = record[0], record[2]\n",
    "    result[zipcode] = result.get(zipcode,[]) + [price]\n",
    "    return result\n",
    "\n",
    "def averageprice(record):\n",
    "    t_p = 0\n",
    "    zipcode, price = record[0], record[1]\n",
    "    for i in record[1]:\n",
    "        t_p += float(i)\n",
    "    return [zipcode, t_p/len(price)]\n",
    "\n",
    "def filt(record):\n",
    "    sqft = record[1]\n",
    "    if sqft != '':\n",
    "        sale_price = float(record[2])\n",
    "        sqft = float(sqft)\n",
    "        if sqft > 500 and sale_price > 100000:\n",
    "            return True\n",
    "        else:\n",
    "            return False"
   ]
  },
  {
   "cell_type": "code",
   "execution_count": 61,
   "metadata": {},
   "outputs": [
    {
     "data": {
      "text/plain": [
       "[['11219.0', 1327215.7661290322],\n",
       " ['10472.0', 795404.6736842105],\n",
       " ['11214.0', 1035225.83125]]"
      ]
     },
     "execution_count": 61,
     "metadata": {},
     "output_type": "execute_result"
    }
   ],
   "source": [
    "with open('housingSalseSample.csv', 'r') as fi:\n",
    "    reader = csv.DictReader(fi)\n",
    "    output = list(map(averageprice,\n",
    "                       list(reduce(priceList,\n",
    "                                   list(filter(filt, \n",
    "                                               map(returnInfo,reader))),\n",
    "                                                {}).items())))\n",
    "output[:3]"
   ]
  },
  {
   "cell_type": "code",
   "execution_count": 62,
   "metadata": {},
   "outputs": [
    {
     "data": {
      "text/html": [
       "<div>\n",
       "<style scoped>\n",
       "    .dataframe tbody tr th:only-of-type {\n",
       "        vertical-align: middle;\n",
       "    }\n",
       "\n",
       "    .dataframe tbody tr th {\n",
       "        vertical-align: top;\n",
       "    }\n",
       "\n",
       "    .dataframe thead th {\n",
       "        text-align: right;\n",
       "    }\n",
       "</style>\n",
       "<table border=\"1\" class=\"dataframe\">\n",
       "  <thead>\n",
       "    <tr style=\"text-align: right;\">\n",
       "      <th></th>\n",
       "      <th>zipcode</th>\n",
       "      <th>price</th>\n",
       "    </tr>\n",
       "  </thead>\n",
       "  <tbody>\n",
       "    <tr>\n",
       "      <th>0</th>\n",
       "      <td>11219.0</td>\n",
       "      <td>1.327216e+06</td>\n",
       "    </tr>\n",
       "    <tr>\n",
       "      <th>1</th>\n",
       "      <td>10472.0</td>\n",
       "      <td>7.954047e+05</td>\n",
       "    </tr>\n",
       "    <tr>\n",
       "      <th>2</th>\n",
       "      <td>11214.0</td>\n",
       "      <td>1.035226e+06</td>\n",
       "    </tr>\n",
       "    <tr>\n",
       "      <th>3</th>\n",
       "      <td>11385.0</td>\n",
       "      <td>8.721293e+05</td>\n",
       "    </tr>\n",
       "    <tr>\n",
       "      <th>4</th>\n",
       "      <td>11235.0</td>\n",
       "      <td>9.822538e+05</td>\n",
       "    </tr>\n",
       "  </tbody>\n",
       "</table>\n",
       "</div>"
      ],
      "text/plain": [
       "   zipcode         price\n",
       "0  11219.0  1.327216e+06\n",
       "1  10472.0  7.954047e+05\n",
       "2  11214.0  1.035226e+06\n",
       "3  11385.0  8.721293e+05\n",
       "4  11235.0  9.822538e+05"
      ]
     },
     "execution_count": 62,
     "metadata": {},
     "output_type": "execute_result"
    }
   ],
   "source": [
    "pd.DataFrame(output,columns=['zipcode','price']).head()"
   ]
  },
  {
   "cell_type": "code",
   "execution_count": 63,
   "metadata": {},
   "outputs": [],
   "source": [
    "'''grading function\n",
    "please pass your output into this function and upload the generated csv file \n",
    "together with your notebook to your GitHub repo'''\n",
    "\n",
    "def grading(output):\n",
    "    import pandas as pd\n",
    "    pd.DataFrame(output,columns=['zipcode','price']).to_csv('output1.csv',index=False)\n",
    "\n",
    "grading(output)"
   ]
  },
  {
   "cell_type": "markdown",
   "metadata": {},
   "source": [
    "### Task 2. \n",
    "#### multiprocessing and Chunk"
   ]
  },
  {
   "cell_type": "code",
   "execution_count": 188,
   "metadata": {},
   "outputs": [
    {
     "data": {
      "text/plain": [
       "'ADSSession2Task2Data.csv'"
      ]
     },
     "execution_count": 188,
     "metadata": {},
     "output_type": "execute_result"
    }
   ],
   "source": [
    "#!wget -O ADSSession2Task2Data.csv https://raw.githubusercontent.com/CUSP2022ADS/Data/main/ADSSession2Task2Data.csv\n",
    "#url = 'https://raw.githubusercontent.com/CUSP2022ADS/Data/main/ADSSession2Task2Data.csv'\n",
    "#wget.download(url)"
   ]
  },
  {
   "cell_type": "markdown",
   "metadata": {},
   "source": [
    "Apply the chunk and MapReduce method to sum up each type's value in the synthetic dataset—only keep records which $Select$ value is 1, and read 1000 lines in each chunk. Use multiprocessing package to deploy the task to multi-cores. The output should only have two columns: type and total value.\n",
    "\n",
    "Hint: filter function is not available in multiprocessing, implement an if-else function in the map or reduce step."
   ]
  },
  {
   "cell_type": "code",
   "execution_count": 32,
   "metadata": {},
   "outputs": [
    {
     "data": {
      "text/html": [
       "<div>\n",
       "<style scoped>\n",
       "    .dataframe tbody tr th:only-of-type {\n",
       "        vertical-align: middle;\n",
       "    }\n",
       "\n",
       "    .dataframe tbody tr th {\n",
       "        vertical-align: top;\n",
       "    }\n",
       "\n",
       "    .dataframe thead th {\n",
       "        text-align: right;\n",
       "    }\n",
       "</style>\n",
       "<table border=\"1\" class=\"dataframe\">\n",
       "  <thead>\n",
       "    <tr style=\"text-align: right;\">\n",
       "      <th></th>\n",
       "      <th>Type</th>\n",
       "      <th>Value</th>\n",
       "      <th>Select</th>\n",
       "    </tr>\n",
       "  </thead>\n",
       "  <tbody>\n",
       "    <tr>\n",
       "      <th>0</th>\n",
       "      <td>0</td>\n",
       "      <td>0.1488486295446153</td>\n",
       "      <td>0</td>\n",
       "    </tr>\n",
       "    <tr>\n",
       "      <th>1</th>\n",
       "      <td>3</td>\n",
       "      <td>0.2198529412734188</td>\n",
       "      <td>1</td>\n",
       "    </tr>\n",
       "    <tr>\n",
       "      <th>2</th>\n",
       "      <td>7</td>\n",
       "      <td>0.15871379686112896</td>\n",
       "      <td>0</td>\n",
       "    </tr>\n",
       "    <tr>\n",
       "      <th>3</th>\n",
       "      <td>0</td>\n",
       "      <td>0.9980337347337275</td>\n",
       "      <td>1</td>\n",
       "    </tr>\n",
       "    <tr>\n",
       "      <th>4</th>\n",
       "      <td>3</td>\n",
       "      <td>0.4923200916998063</td>\n",
       "      <td>0</td>\n",
       "    </tr>\n",
       "  </tbody>\n",
       "</table>\n",
       "</div>"
      ],
      "text/plain": [
       "  Type                Value Select\n",
       "0    0   0.1488486295446153      0\n",
       "1    3   0.2198529412734188      1\n",
       "2    7  0.15871379686112896      0\n",
       "3    0   0.9980337347337275      1\n",
       "4    3   0.4923200916998063      0"
      ]
     },
     "execution_count": 32,
     "metadata": {},
     "output_type": "execute_result"
    }
   ],
   "source": [
    "task2 = pd.read_csv('ADSSession2Task2Data.csv')\n",
    "task2.head()"
   ]
  },
  {
   "cell_type": "code",
   "execution_count": 33,
   "metadata": {},
   "outputs": [],
   "source": [
    "from ipynb.fs.full.function import returnInfo\n",
    "from ipynb.fs.full.function import TypeList\n",
    "from ipynb.fs.full.function import sumvalue\n",
    "result = []\n",
    "with open('ADSSession2Task2Data.csv', 'r') as fi:\n",
    "    reader = csv.DictReader(fi)\n",
    "    chunk = []\n",
    "    chunksize = 1000\n",
    "    pool = Pool(8)\n",
    "    for i, line in enumerate(reader):\n",
    "        \n",
    "        if (i % chunksize == 0 and i > 0):\n",
    "            # MapReduce function for rows in one chunk\n",
    "            output = list(pool.map(sumvalue,\n",
    "                         list(reduce(TypeList,\n",
    "                             list(pool.map(returnInfo,chunk)\n",
    "                            ),\n",
    "                         {}).items())))\n",
    "            result += output\n",
    "            chunk = []\n",
    "        chunk.append(line)\n",
    "    \n",
    "    output = list(pool.map(sumvalue,\n",
    "                         list(reduce(TypeList,\n",
    "                             list(pool.map(returnInfo,chunk)\n",
    "                            ),\n",
    "                         {}).items())))\n",
    "    result += output\n",
    "    pool.close()\n",
    "    "
   ]
  },
  {
   "cell_type": "code",
   "execution_count": 34,
   "metadata": {},
   "outputs": [
    {
     "data": {
      "text/plain": [
       "[['3', 294.32549925839936], ['0', 306.7099300824752], ['1', 316.7932728146583]]"
      ]
     },
     "execution_count": 34,
     "metadata": {},
     "output_type": "execute_result"
    }
   ],
   "source": [
    "def resultList(result,record):\n",
    "    Type, value = record[0],record[1]\n",
    "    result[Type] = result.get(Type,[]) + [value]\n",
    "    return result\n",
    "\n",
    "def sumresult(record):\n",
    "    Type, value = record[0],record[1]\n",
    "    return [Type, sum(value)]\n",
    "\n",
    "output = list(map(sumresult,list(reduce(resultList,result,{}).items())))\n",
    "output[:3]"
   ]
  },
  {
   "cell_type": "code",
   "execution_count": 35,
   "metadata": {},
   "outputs": [],
   "source": [
    "#from ipynb.fs.full.function import square\n",
    "#with Pool(8) as p:\n",
    "#    result = list(p.map(square,range(100)))\n",
    "#    p.close()"
   ]
  },
  {
   "cell_type": "code",
   "execution_count": 31,
   "metadata": {},
   "outputs": [],
   "source": [
    "'''grading function\n",
    "please pass your output into this function and upload the generated csv file \n",
    "together with your notebook to your GitHub repo'''\n",
    "\n",
    "def grading(output):\n",
    "    import pandas as pd\n",
    "    pd.DataFrame(output,columns=['Type','Value']).to_csv('output2.csv',index=False)\n",
    "\n",
    "grading(output)"
   ]
  },
  {
   "cell_type": "code",
   "execution_count": null,
   "metadata": {},
   "outputs": [],
   "source": []
  }
 ],
 "metadata": {
  "kernelspec": {
   "display_name": "Python 3",
   "language": "python",
   "name": "python3"
  },
  "language_info": {
   "codemirror_mode": {
    "name": "ipython",
    "version": 3
   },
   "file_extension": ".py",
   "mimetype": "text/x-python",
   "name": "python",
   "nbconvert_exporter": "python",
   "pygments_lexer": "ipython3",
   "version": "3.8.5"
  }
 },
 "nbformat": 4,
 "nbformat_minor": 4
}
