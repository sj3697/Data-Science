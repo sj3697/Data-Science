{
 "cells": [
  {
   "cell_type": "code",
   "execution_count": 1,
   "metadata": {},
   "outputs": [],
   "source": [
    "def returnInfo(record): #extract necessary fields from a data record (raw)\n",
    "    return(record['Type'],record['Value'],record['Select'])\n",
    "\n",
    "def TypeList(result,record):\n",
    "    Type, value, select = record[0], record[1], record[2]\n",
    "    if select == '1':\n",
    "        result[Type] = result.get(Type,[]) + [value]\n",
    "    return result\n",
    "\n",
    "def sumvalue(record):\n",
    "    total = 0\n",
    "    Type = record[0]\n",
    "    for i in record[1]:\n",
    "        total += float(i)\n",
    "    return [Type, total]\n",
    "\n",
    "def square(x):\n",
    "    return x**2"
   ]
  }
 ],
 "metadata": {
  "kernelspec": {
   "display_name": "Python 3",
   "language": "python",
   "name": "python3"
  },
  "language_info": {
   "codemirror_mode": {
    "name": "ipython",
    "version": 3
   },
   "file_extension": ".py",
   "mimetype": "text/x-python",
   "name": "python",
   "nbconvert_exporter": "python",
   "pygments_lexer": "ipython3",
   "version": "3.8.5"
  }
 },
 "nbformat": 4,
 "nbformat_minor": 4
}
